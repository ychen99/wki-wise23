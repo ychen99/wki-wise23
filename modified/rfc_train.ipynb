{
 "cells": [
  {
   "cell_type": "code",
   "execution_count": 2,
   "id": "053011f5-e2f4-4edb-9ca3-18b59de282b0",
   "metadata": {
    "collapsed": true,
    "jupyter": {
     "outputs_hidden": true
    },
    "tags": []
   },
   "outputs": [
    {
     "name": "stdout",
     "output_type": "stream",
     "text": [
      "\u001b[31mERROR: Could not open requirements file: [Errno 2] No such file or directory: 'requirements.txt'\u001b[0m\u001b[31m\n",
      "\u001b[0m"
     ]
    }
   ],
   "source": [
    "!pip install --user -r requirements.txt"
   ]
  },
  {
   "cell_type": "code",
   "execution_count": 3,
   "id": "e22a3bbf-e3de-472d-bdd6-8f8971a5c17c",
   "metadata": {
    "tags": []
   },
   "outputs": [
    {
     "ename": "ModuleNotFoundError",
     "evalue": "No module named 'wettbewerb'",
     "output_type": "error",
     "traceback": [
      "\u001b[0;31m---------------------------------------------------------------------------\u001b[0m",
      "\u001b[0;31mModuleNotFoundError\u001b[0m                       Traceback (most recent call last)",
      "\u001b[1;32m/Users/wenhao/wki-wise23/modified/rfc_train.ipynb Cell 2\u001b[0m line \u001b[0;36m4\n\u001b[1;32m      <a href='vscode-notebook-cell:/Users/wenhao/wki-wise23/modified/rfc_train.ipynb#W1sZmlsZQ%3D%3D?line=1'>2</a>\u001b[0m \u001b[39mfrom\u001b[39;00m \u001b[39mscipy\u001b[39;00m \u001b[39mimport\u001b[39;00m fft\n\u001b[1;32m      <a href='vscode-notebook-cell:/Users/wenhao/wki-wise23/modified/rfc_train.ipynb#W1sZmlsZQ%3D%3D?line=2'>3</a>\u001b[0m \u001b[39mimport\u001b[39;00m \u001b[39mnumpy\u001b[39;00m \u001b[39mas\u001b[39;00m \u001b[39mnp\u001b[39;00m\n\u001b[0;32m----> <a href='vscode-notebook-cell:/Users/wenhao/wki-wise23/modified/rfc_train.ipynb#W1sZmlsZQ%3D%3D?line=3'>4</a>\u001b[0m \u001b[39mfrom\u001b[39;00m \u001b[39mwettbewerb\u001b[39;00m \u001b[39mimport\u001b[39;00m get_3montages, EEGDataset\n\u001b[1;32m      <a href='vscode-notebook-cell:/Users/wenhao/wki-wise23/modified/rfc_train.ipynb#W1sZmlsZQ%3D%3D?line=4'>5</a>\u001b[0m \u001b[39mfrom\u001b[39;00m \u001b[39mscipy\u001b[39;00m \u001b[39mimport\u001b[39;00m signal \u001b[39mas\u001b[39;00m sig\n\u001b[1;32m      <a href='vscode-notebook-cell:/Users/wenhao/wki-wise23/modified/rfc_train.ipynb#W1sZmlsZQ%3D%3D?line=5'>6</a>\u001b[0m \u001b[39mfrom\u001b[39;00m \u001b[39msklearn\u001b[39;00m\u001b[39m.\u001b[39;00m\u001b[39mmetrics\u001b[39;00m \u001b[39mimport\u001b[39;00m classification_report, confusion_matrix\n",
      "\u001b[0;31mModuleNotFoundError\u001b[0m: No module named 'wettbewerb'"
     ]
    }
   ],
   "source": [
    "from scipy.signal import butter, filtfilt\n",
    "from scipy import fft\n",
    "import numpy as np\n",
    "from wettbewerb import get_3montages, EEGDataset\n",
    "from scipy import signal as sig\n",
    "from sklearn.metrics import classification_report, confusion_matrix\n",
    "import matplotlib\n",
    "import matplotlib.pyplot as plt \n",
    "import tensorflow as tf\n",
    "from sklearn.ensemble import RandomForestClassifier\n",
    "from sklearn.svm import SVC\n",
    "from sklearn.preprocessing import StandardScaler\n",
    "from sklearn.model_selection import train_test_split\n"
   ]
  },
  {
   "cell_type": "code",
   "execution_count": 13,
   "id": "b5f3b361-3f9c-4f83-880a-6d60a80e426a",
   "metadata": {},
   "outputs": [],
   "source": [
    "def butter_bandpass_filter(_signal, lowcut, highcut, freq, order=4):\n",
    "    \"\"\"\n",
    "    compute the band power in different frequency range\n",
    "    :param sig: eeg signal\n",
    "    :param freq: sampling frquency of the eeg signal\n",
    "    :param freq_low: lower bound of the required wave frequency range\n",
    "    :param freq_high: upper bound of the required wave frequency range\n",
    "    :return: the power energy in range from freq_low to freq_high\n",
    "    \"\"\"\n",
    "    nyquist = 0.5 * freq\n",
    "    low = lowcut / nyquist\n",
    "    high = highcut / nyquist\n",
    "    b, a = butter(order, [low, high], btype='band')\n",
    "    filtered_sig = filtfilt(b, a, _signal)\n",
    "    return filtered_sig\n",
    "\n",
    "\n",
    "def compute_band_power(sig, freq, freq_low, freq_high):\n",
    "    \"\"\"\n",
    "    precessing an EEG signal, extract features, including mean amplitude, max amplitude, standard deviation, and energy of delta, theta, alpha, beta wave\n",
    "    :param _channels: channels of the eeg data\n",
    "    :param _data: eeg data\n",
    "    :param fr: sampling frequency of the eeg signal\n",
    "    :return: extracted features in a form of numpy array\n",
    "    \"\"\"\n",
    "    spectrum = fft.fft(sig)\n",
    "    frequencies = np.fft.fftfreq(len(sig), d=1/freq)\n",
    "    freq_range = (frequencies >= freq_low) & (frequencies <= freq_high)\n",
    "    power = np.sum(np.abs(spectrum[freq_range])**2) / len(freq_range)\n",
    "    return power\n",
    "    \n",
    "    \n",
    "def pre_processing(_channels, _data, fr):\n",
    "    \"\"\"\n",
    "    precessing an EEG signal, extract features, including mean amplitude, max amplitude, standard deviation, and energy of delta, theta, alpha, beta wave\n",
    "    :param _channels: channels of the eeg data\n",
    "    :param _data: eeg data\n",
    "    :param fr: sampling frequency of the eeg signal\n",
    "    :return: extracted features in a form of numpy array\n",
    "    \"\"\"\n",
    "    _montage, _montage_data, _is_missing = get_3montages(_channels, _data)\n",
    "\n",
    "    # initialize the first three features\n",
    "    amplitude_means = np.zeros(len(_montage))\n",
    "    mean_amplitude = []\n",
    "    amplitude_max = np.zeros(len(_montage))\n",
    "    max_amplitude = []\n",
    "    amplitude_std = np.zeros(len(_montage))\n",
    "    std_amplitude = []\n",
    "    \n",
    "    band_power = np.zeros(4)\n",
    "\n",
    "    for j, signal_name in enumerate(_montage):\n",
    "        signal = _montage_data[j]\n",
    "        signal_notch = mne.filter.notch_filter(x=signal, Fs=fr, freqs=np.array([50., 100.]), #apply notch filter\n",
    "                                                n_jobs=2, verbose=False)\n",
    "        signal_filter = butter_bandpass_filter(_signal=signal, lowcut=0.5, #apply butter bandpass filter\n",
    "                                                   highcut=70.0, freq=fr)\n",
    "\n",
    "        # Calculate FFT \n",
    "        spectrum = fft.fft(signal_filter)#fast fourier\n",
    "        amplitude_means[j] = np.mean(np.abs(spectrum))# three montage, store the mean amplitude of each monge\n",
    "        amplitude_max[j] = np.max(np.abs(spectrum))# three montage, store the max amplitude of each monge\n",
    "        amplitude_std[j] = np.std(np.abs(spectrum))# three montage, store the standard deviation of each monge\n",
    "\n",
    "        # Compute band power\n",
    "        band_power[0] += compute_band_power(signal_filter, fr, 0.5, 4)# energy of delta\n",
    "        band_power[1] += compute_band_power(signal_filter, fr, 4, 8)# energy of theta\n",
    "        band_power[2] += compute_band_power(signal_filter, fr, 8, 13)# energy of alpha\n",
    "        band_power[3] += compute_band_power(signal_filter, fr, 13, 30)# energy of beta\n",
    "        \n",
    "    mean_amplitude.append(np.mean(amplitude_means)) #mean value of mean amplitude of three montages\n",
    "    mean_amplitude = np.array(mean_amplitude)\n",
    "    max_amplitude.append(np.mean(amplitude_max))#mean value  of max amplitude of three montages\n",
    "    max_amplitude = np.array(max_amplitude)\n",
    "    std_amplitude.append(np.mean(amplitude_std))#mean value  of standard deviation of three montages\n",
    "    std_amplitude = np.array(std_amplitude)\n",
    "    \n",
    "    band_power /= len(_montage)# mean enegy of three montages\n",
    "    features = np.concatenate((mean_amplitude, max_amplitude, std_amplitude, band_power), axis=0)# concatenat all 7 features to a np array\n",
    "    #features_reshaped = features.reshape(1, -1)\n",
    "    #feature_scaled = scaler.transform(features_reshaped)\n",
    "    return features"
   ]
  },
  {
   "cell_type": "code",
   "execution_count": 14,
   "id": "af54cf0c-9be4-44e0-85c9-332bea2e7137",
   "metadata": {},
   "outputs": [],
   "source": [
    "def pad_eeg_signals(eeg_signals, target_length, fs=256):\n",
    "    \"\"\"\n",
    "    padding EEG signal of different length to a common length\n",
    "    :param eeg_signals: A EEG signal list with many signals, its length may differ\n",
    "    :param target_length: target lenth of the signal\n",
    "    :param fs: sampling frequency of the signal\n",
    "    :return: List of padded signal\n",
    "    \"\"\"\n",
    "    padded_signals = []\n",
    "    target_samples = target_length * fs # transform the target lenth to number of samples\n",
    "\n",
    "    for signal in eeg_signals:\n",
    "        if len(signal) < target_samples:\n",
    "            # if signal length shorter than target length, padding 0\n",
    "            padded_signal = np.pad(signal, (0, target_samples - len(signal)), 'constant')\n",
    "        else:\n",
    "            # if. signal length longer than. target length, cut them\n",
    "            padded_signal = signal[:target_samples]\n",
    "        padded_signals.append(padded_signal)\n",
    "    padded_signals = np.array(padded_signals)\n",
    "    \n",
    "    return padded_signals\n"
   ]
  },
  {
   "cell_type": "code",
   "execution_count": 15,
   "id": "71cf34c5-c800-443e-8a10-a12dec2113c5",
   "metadata": {},
   "outputs": [],
   "source": [
    "def extract_eeg_data():\n",
    "    \"\"\"\n",
    "    load eeg signal and do padding, feature extraction one by one\n",
    "    :return: all_window_features: features on each window of EEG signals, shape (6213,59,7), representing 6213 EEG data, each having 59 windows, each window 7 features\n",
    "    :return: all_window_labels: the correspoing label on each window of eeg signals. shape(6213,59)\n",
    "    :return: all_eeg_labels: the label of each. signal correspoing the the. number in REFERENCE.csv\n",
    "    \"\"\"\n",
    "    #initilize channels, data, sampling_frequencies, reference_system, all_eeg_labels\n",
    "    channels: List[List[str]] = []\n",
    "    data: List[np.ndarray] = []\n",
    "    sampling_frequencies: List[float] = []\n",
    "    reference_systems: List[str] = []\n",
    "    all_eeg_labels: List[Tuple[bool,float,float]] = []\n",
    "    \n",
    "    #List. to store features and labels on each window\n",
    "    all_window_features = []\n",
    "    all_window_labels = []\n",
    "    #define a standard scaler\n",
    "    scaler = StandardScaler()\n",
    "    dataset = EEGDataset(\"../shared_data/training\")\n",
    "    #initilize a np array to store the features\n",
    "    features = np.empty((0,59,7))\n",
    "    \n",
    "    for item in dataset:\n",
    "        _eeg_label = item[5] \n",
    "        all_eeg_labels.append(item[5])\n",
    "        _chann =item[1]\n",
    "        _eeg_signals=item[2]\n",
    "        _fs=item[3]\n",
    "        # pad each signal eeg signal to lenth 300 with its own sampling frequency\n",
    "        padded_signal = pad_eeg_signals(_eeg_signals, 300, _fs) \n",
    "        # scale the padded signal\n",
    "        padded_signal = scaler.fit_transform(padded_signal)\n",
    "        window_size = 10 # each window is 10 seconds\n",
    "        step_size = 5 # step size. if 5 seconds\n",
    "        \n",
    "        window_samples = window_size * _fs # transoform window size from time to number of samples\n",
    "        step_samples = step_size * _fs # transoform step size size from time to number of samples\n",
    "        # initialize list to store the result\n",
    "        all_windows=[]\n",
    "        window_features = []\n",
    "        window_labels = []\n",
    "        \n",
    "        for start_idx in range(0, padded_signal.shape[1] - window_samples + 1, step_samples):\n",
    "            onset_sample_point = int(_eeg_label[1] * _fs) # define the onset to sample point\n",
    "            offset_sample_point = int(_eeg_label[2] * _fs) if _eeg_label[2]<=300 else 300* _fs # define the offset to sample point\n",
    "            \n",
    "            window = padded_signal[:, start_idx:start_idx + window_samples] #window of padded signal\n",
    "            window_feature = pre_processing(_chann, window, _fs) # extract hidden. features of this window\n",
    "            # if the window is totally on the left of onset point or totally on the right of offset point,or the onset point is zero, label this window 0\n",
    "            if (start_idx < onset_sample_point and start_idx + window_samples < onset_sample_point) or (start_idx>offset_sample_point and start_idx + window_samples > offset_sample_point) or onset_sample_point== 0:\n",
    "                window_label = 0\n",
    "            else:\n",
    "                window_label = 1 #apart form the conditions, label the window 1\n",
    "            window_labels.append(window_label)\n",
    "            window_features.append(window_feature)\n",
    "            all_windows.append(window)\n",
    "        window_features = np.array(window_features)\n",
    "        window_labels = np.array(window_labels)\n",
    "        all_window_features.append(window_features)\n",
    "        all_window_labels.append(window_labels)\n",
    "    \n",
    "    all_window_features = np.array(all_window_features)\n",
    "    all_window_labels = np.array(all_window_labels)\n",
    "        \n",
    "    #features = np.vstack((features, new_feature))\n",
    "    return all_window_features, all_window_labels, all_eeg_labels"
   ]
  },
  {
   "cell_type": "code",
   "execution_count": 16,
   "id": "9540efa1-095b-4ef4-9be5-861183fbe44a",
   "metadata": {},
   "outputs": [],
   "source": [
    "# dataset of all features, shape (6213,59,7)\n",
    "#representing 6213 EEG data, each having 59 windows, each window 7 features\n",
    "all_window_features = np.load('all_window_features.npy') \n",
    "# all EEG data labels ,shape (6213,59),6213 EEG data, each of them has 59 labels of 0 or 1\n",
    "all_window_labels = np.load('all_window_labels.npy')\n",
    "# all EEG data labels, shape(6213,3), representing 6213 EEG data, each having 3 label, seizure-onset-offset\n",
    "eeg_labels = np.load('eeg_labels.npy')\n",
    "# label representing if the EEG signal is seizure\n",
    "seizure = [item[0] for item in eeg_labels]\n",
    "seizure = np.array(seizure)"
   ]
  },
  {
   "cell_type": "code",
   "execution_count": 17,
   "id": "f4a873e7-27b5-41c1-ac11-7754ab460522",
   "metadata": {},
   "outputs": [
    {
     "name": "stdout",
     "output_type": "stream",
     "text": [
      "(6213, 3)\n",
      "(6213, 59, 7)\n",
      "(6213, 59)\n",
      "(6213,)\n"
     ]
    }
   ],
   "source": [
    "print(eeg_labels.shape)\n",
    "print(all_window_features.shape)\n",
    "print(all_window_labels.shape)\n",
    "print(seizure.shape)"
   ]
  },
  {
   "cell_type": "code",
   "execution_count": 18,
   "id": "5d0d0528-c7d9-47cd-840c-e5ec6fe0146e",
   "metadata": {},
   "outputs": [],
   "source": [
    "# find the first index of three continous window, whose label is 1\n",
    "def find_first_triple_one(sequence):\n",
    "    if len(sequence) < 3:  \n",
    "        return 0\n",
    "\n",
    "    window_sum = sequence[0] + sequence[1] + sequence[2]\n",
    "    if window_sum == 3:\n",
    "        return 0\n",
    "\n",
    "    for i in range(3, len(sequence)):\n",
    "        window_sum += sequence[i] - sequence[i-3] #add new element, delete the first one \n",
    "        if window_sum == 3:\n",
    "            return i - 2  # return the first index of these three windows\n",
    "\n",
    "    return 0 \n"
   ]
  },
  {
   "cell_type": "code",
   "execution_count": 19,
   "id": "b258e7a1-9489-460a-a289-9188131d62b0",
   "metadata": {},
   "outputs": [],
   "source": [
    "# reshape the features, so that all the windows are mixed together\n",
    "# label also\n",
    "reshaped_features = all_window_features.reshape(-1, 7)\n",
    "reshaped_labels = all_window_labels.reshape(-1)\n"
   ]
  },
  {
   "cell_type": "code",
   "execution_count": 20,
   "id": "88abfd13-712e-4cce-a679-7c6f6663243e",
   "metadata": {},
   "outputs": [],
   "source": [
    "X_train, X_test, Y1_train, Y1_test, Y2_train, Y2_test = train_test_split(all_window_features, eeg_labels, all_window_labels, test_size=0.2, random_state=42, stratify=seizure)"
   ]
  },
  {
   "cell_type": "code",
   "execution_count": 21,
   "id": "19c9917e-35ff-4f5d-b0cb-01aba5f0d27c",
   "metadata": {},
   "outputs": [],
   "source": [
    "# train test split of mixed window features and labels\n",
    "x_train, x_test, y_train, y_test = train_test_split(reshaped_features, reshaped_labels, random_state = 42)"
   ]
  },
  {
   "cell_type": "code",
   "execution_count": 22,
   "id": "6fee7cef-6ec8-4b1a-84a0-dadaa78187a0",
   "metadata": {},
   "outputs": [
    {
     "data": {
      "text/plain": [
       "RandomForestClassifier(random_state=42)"
      ]
     },
     "execution_count": 22,
     "metadata": {},
     "output_type": "execute_result"
    }
   ],
   "source": [
    "# build random forest classifier\n",
    "rf = RandomForestClassifier(random_state = 42)\n",
    "\n",
    "# train RF with mixed window, cause in the following prediction part, we classify each window, instead of each eeg signal\n",
    "rf.fit(x_train, y_train)"
   ]
  },
  {
   "cell_type": "code",
   "execution_count": null,
   "id": "a9dac87d-0584-4de8-bd6f-0c73ea78e30b",
   "metadata": {
    "tags": []
   },
   "outputs": [
    {
     "name": "stdout",
     "output_type": "stream",
     "text": [
      "[0, 35, 0, 0, 0, 0, 0, 0, 140, 0, 0, 0, 0, 0, 0, 0, 0, 0, 0, 15, 0, 155, 0, 0, 0, 0, 0, 30, 0, 0, 0, 90, 0, 0, 0, 0, 0, 0, 0, 0, 190, 105, 0, 0, 0, 0, 0, 0, 65, 0, 0, 0, 145, 0, 0, 0, 0, 270, 0, 0, 0, 0, 0, 0, 15, 0, 0, 0, 25, 0, 0, 60, 0, 0, 180, 0, 0, 0, 0, 0, 0, 0, 35, 0, 0, 0, 0, 20, 45, 0, 0, 0, 0, 20, 150, 0, 0, 0, 0, 0, 0, 80, 85, 185, 0, 0, 30, 15, 0, 0, 0, 0, 0, 0, 80, 0, 0, 115, 0, 20, 0, 0, 0, 80, 0, 0, 0, 0, 0, 0, 0, 0, 0, 15, 200, 0, 0, 160, 10, 0, 0, 0, 0, 0, 0, 0, 0, 0, 0, 65, 0, 0, 0, 0, 0, 0, 0, 0, 0, 0, 0, 60, 0, 0, 0, 0, 0, 15, 0, 0, 0, 0, 0, 0, 60, 0, 0, 0, 100, 0, 45, 0, 0, 0, 90, 0, 0, 140, 0, 0, 0, 0, 0, 30, 15, 155, 0, 55, 0, 0, 25, 0, 0, 20, 0, 0, 0, 0, 0, 5, 0, 15, 20, 0, 0, 0, 0, 0, 0, 0, 0, 0, 0, 0, 0, 0, 0, 0, 0, 0, 0, 0, 0, 0, 10, 0, 0, 0, 90, 0, 0, 0, 0, 20, 0, 0, 0, 0, 0, 0, 0, 0, 5, 0, 0, 0, 135, 0, 0, 0, 0, 235, 0, 25, 0, 50, 0, 0, 25, 25, 0, 0, 0, 0, 0, 0, 70, 0, 0, 0, 0, 0, 60, 0, 0, 0, 0, 0, 0, 0, 0, 0, 0, 0, 0, 0, 10, 0, 40, 0, 75, 0, 0, 0, 10, 0, 0, 0, 0, 0, 0, 0, 0, 0, 0, 0, 0, 0, 25, 0, 85, 265, 0, 50, 0, 0, 0, 0, 105, 0, 0, 0, 0, 10, 35, 0, 0, 70, 25, 45, 0, 0, 0, 0, 0, 0, 0, 0, 0, 0, 0, 0, 85, 0, 0, 0, 20, 0, 0, 110, 15, 0, 0, 0, 0, 0, 0, 160, 0, 0, 0, 0, 0, 0, 135, 0, 0, 0, 0, 15, 0, 0, 20, 0, 0, 0, 20, 0, 0, 0, 0, 0, 0, 0, 0, 0, 0, 0, 0, 0, 0, 0, 275, 0, 150, 0, 0, 0, 0, 0, 0, 0, 80, 0, 0, 0, 0, 0, 0, 0, 235, 0, 0, 0, 0, 0, 130, 0, 0, 0, 0, 0, 0, 0, 60, 15, 0, 190, 0, 0, 25, 75, 65, 0, 0, 0, 0, 0, 0, 75, 0, 0, 0, 0, 120, 0, 0, 0, 245, 0, 0, 0, 5, 0, 0, 0, 0, 0, 0, 20, 0, 140, 0, 0, 0, 0, 0, 0, 160, 0, 0, 0, 0, 110, 30, 0, 0, 0, 0, 0, 0, 0, 0, 0, 0, 0, 0, 0, 0, 0, 15, 0, 0, 0, 5, 10, 0, 5, 195, 0, 0, 45, 0, 0, 0, 0, 0, 0, 0, 0, 30, 0, 0, 0, 10, 0, 0, 0, 0, 0, 0, 0, 0, 10, 0, 0, 0, 0, 0, 0, 0, 0, 0, 0, 0, 0, 0, 10, 0, 0, 0, 0, 195, 0, 0, 50, 0, 0, 0, 0, 0, 95, 0, 0, 0, 0, 20, 0, 0, 0, 160, 0, 0, 60, 0, 0, 0, 0, 0, 15, 60, 0, 0, 5, 0, 0, 0, 0, 0, 0, 50, 0, 0, 0, 0, 0, 0, 0, 0, 0, 25, 0, 0, 0, 0, 120, 5, 0, 0, 0, 0, 0, 0, 0, 0, 0, 210, 90, 0, 0, 0, 0, 0, 255, 0, 250, 0, 0, 0, 0, 0, 0, 0, 60, 0, 0, 5, 0, 0, 245, 35, 0, 270, 0, 0, 45, 60, 0, 0, 0, 0, 0, 5, 0, 0, 0, 0, 0, 250, 0, 0, 0, 0, 230, 0, 15, 15, 0, 0, 40, 0, 0, 245, 5, 0, 40, 45, 15, 0, 0, 0, 0, 25, 105, 0, 270, 15, 0, 0, 0, 0, 0, 0, 0, 0, 0, 10, 0, 0, 0, 0, 155, 0, 0, 0, 0, 0, 65, 0, 185, 5, 0, 0, 0, 0, 0, 0, 0, 0, 0, 0, 0, 0, 0, 0, 155, 0, 0, 0, 25, 0, 0, 0, 245, 35, 55, 0, 0, 0, 0, 0, 0, 0, 0, 0, 0, 0, 0, 0, 0, 0, 0, 0, 0, 0, 0, 0, 0, 0, 0, 0, 0, 0, 0, 0, 0, 0, 80, 0, 0, 0, 0, 0, 0, 0, 0, 0, 0, 175, 0, 80, 0, 10, 35, 0, 0, 0, 0, 20, 0, 135, 0, 0, 10, 10, 0, 0, 125, 0, 115, 0, 0, 0, 0, 0, 0, 0, 0, 0, 0, 0, 0, 0, 5, 0, 30, 0, 0, 0, 0, 0, 10, 110, 0, 0, 0, 0, 0, 0, 0, 0, 0, 0, 0, 90, 30, 0, 10, 0, 0, 30, 160, 0, 0, 0, 0, 0, 0, 20, 30, 0, 0, 0, 0, 0, 0, 0, 0, 0, 0, 0, 0, 0, 170, 0, 0, 0, 10, 0, 25, 0, 10, 0, 0, 0, 0, 240, 90, 10, 0, 0, 0, 0, 0, 0, 0, 0, 0, 0, 50, 0, 0, 45, 0, 0, 0, 0, 0, 0, 30, 35, 0, 0, 100, 10, 0, 0, 0, 0, 0, 0, 0, 0, 50, 0, 0, 0, 0, 0, 145, 55, 0, 40, 0, 0, 0, 0, 0, 0, 0, 0, 0, 230, 0, 0, 15, 25, 0, 0, 0, 40, 0, 65, 0, 0, 0, 5, 0, 5, 0, 0, 0, 0, 0, 0, 40, 25, 0, 30, 10, 0, 40, 0, 0, 0, 0, 25, 15, 0, 20, 0, 0, 0, 145, 0, 0, 0, 110, 5, 0, 0, 0, 0, 0, 0, 0, 0, 10, 0, 0, 0, 5, 0, 0, 0, 0, 0, 215, 0, 0, 0, 0, 0, 0, 0, 0, 0, 0, 0, 0, 0, 0, 0, 0, 0, 0, 0, 0, 0, 0, 0, 0, 265, 0, 170, 0, 0, 0, 0, 0, 0, 0, 0, 0, 5, 85, 0, 0, 0, 0, 0, 0, 0, 0, 0, 0, 0, 0, 0, 0, 0, 0, 0, 75, 15, 0, 0, 190, 0, 0, 0, 35, 0, 0, 0, 0, 0, 5, 0, 0, 0, 0, 0, 0, 0, 0, 0, 0, 0, 15, 35, 0, 0, 0, 0, 0, 120, 0, 0, 0, 0, 230, 0, 25, 50, 55, 0, 0, 0, 0, 0, 40, 0, 0, 0, 0, 0, 0, 10, 0, 0, 0, 0, 0, 0, 0, 5, 0, 0, 0, 0, 0, 0, 0, 20, 0, 0, 20, 0, 0, 5, 0, 0, 40, 0, 0, 0, 0, 0, 15, 0, 0, 0, 0, 0, 0, 0, 80, 0, 55, 0, 0, 0, 0, 0, 115, 0, 0, 0, 0, 0, 0, 0, 0, 280, 0, 0, 270, 35, 0, 0, 0, 0, 30, 40, 0, 0, 0, 0, 0, 0, 45, 0, 0, 70, 0, 0, 0, 0, 65, 0, 0, 0, 0, 0, 0, 20, 0, 0, 25, 0, 0, 95, 0, 0, 0, 0, 0, 65, 0, 0, 0, 0, 0, 0, 0, 255, 20, 0, 0, 0, 0, 0, 55, 85, 0, 0, 0, 0, 0, 0, 25, 0, 0, 0, 0, 0, 0, 0, 0, 0, 60, 0]\n"
     ]
    }
   ],
   "source": [
    "# determine the onset of each signal\n",
    "onset=[] \n",
    "for signal in X_test:\n",
    "    window_seizure=[] # store the label of each window in a single signal\n",
    "    for window in signal:\n",
    "        _prediction = rf.predict(window.reshape(1, -1)) # predict the label of each window \n",
    "        window_seizure.append(_prediction[0]) # store the label(0 or 1) \n",
    "        first_index = find_first_triple_one(window_seizure)# find the first index of 3 continous window\n",
    "    onset.append(first_index * 5) # step size is 5, onset is index * 5\n",
    "print(onset)\n",
    "        "
   ]
  },
  {
   "cell_type": "code",
   "execution_count": 24,
   "id": "2d6983b0-cc4d-4e91-9de3-f4192ebc62c7",
   "metadata": {
    "tags": []
   },
   "outputs": [],
   "source": [
    "# determine the label of each signal\n",
    "# if the onset of this signal is not zero, the label is 1, instead, 0\n",
    "\n",
    "eeg_signal_label = []\n",
    "for item in onset:\n",
    "    if item>0:\n",
    "        eeg_signal_label.append(1)\n",
    "    else:\n",
    "        eeg_signal_label.append(0)\n",
    "        "
   ]
  },
  {
   "cell_type": "code",
   "execution_count": 25,
   "id": "4a6c82fc-18ab-4d45-8f77-cb17a6fe76f4",
   "metadata": {},
   "outputs": [
    {
     "name": "stdout",
     "output_type": "stream",
     "text": [
      "Confusion Matrix:\n",
      "[[759   0]\n",
      " [215 269]]\n",
      "Classification Report:\n",
      "              precision    recall  f1-score   support\n",
      "\n",
      "         0.0       0.78      1.00      0.88       759\n",
      "         1.0       1.00      0.56      0.71       484\n",
      "\n",
      "    accuracy                           0.83      1243\n",
      "   macro avg       0.89      0.78      0.80      1243\n",
      "weighted avg       0.87      0.83      0.81      1243\n",
      "\n"
     ]
    }
   ],
   "source": [
    "Y1_test_label = [item[0] for item in Y1_test]\n",
    "# confusion matrix and report\n",
    "cm = confusion_matrix(Y1_test_label, eeg_signal_label)\n",
    "print(\"Confusion Matrix:\")\n",
    "print(cm)\n",
    "\n",
    "report = classification_report(Y1_test_label, eeg_signal_label)\n",
    "print(\"Classification Report:\")\n",
    "print(report)"
   ]
  },
  {
   "cell_type": "code",
   "execution_count": null,
   "id": "a6c51f4e-6f72-4b1d-b08f-fc1170dea640",
   "metadata": {},
   "outputs": [],
   "source": [
    "svc = SVC(kernel='rbf', random_state = 42)\n",
    "svc.fit(x_train, y_train)"
   ]
  },
  {
   "cell_type": "code",
   "execution_count": null,
   "id": "4a29ea57-406e-40bb-999a-79d448568116",
   "metadata": {},
   "outputs": [],
   "source": [
    "onset_svc=[] \n",
    "for signal in X_test:\n",
    "    window_seizure=[] # store the label of each window in a single signal\n",
    "    for window in signal:\n",
    "        _prediction = rf.predict(window.reshape(1, -1)) # predict the label of each window \n",
    "        window_seizure.append(_prediction[0]) # store the label(0 or 1) \n",
    "        first_index = find_first_triple_one(window_seizure)# find the first index of 3 continous window\n",
    "    onset_svc.append(first_index * 5) # step size is 5, onset is index * 5"
   ]
  },
  {
   "cell_type": "code",
   "execution_count": null,
   "id": "6f3c3c09-f9f9-4b46-a9a4-fc0006ee2be4",
   "metadata": {},
   "outputs": [],
   "source": [
    "eeg_signal_label_svc = []\n",
    "for item in onset_svc:\n",
    "    if item>0:\n",
    "        eeg_signal_label_svc.append(1)\n",
    "    else:\n",
    "        eeg_signal_label_svc.append(0)"
   ]
  },
  {
   "cell_type": "code",
   "execution_count": null,
   "id": "ec39e694-5dee-4a6c-a0d5-2e8af747e053",
   "metadata": {},
   "outputs": [],
   "source": [
    "Y1_test_label = [item[0] for item in Y1_test]\n",
    "# confusion matrix and report\n",
    "cm_svc = confusion_matrix(Y1_test_label, eeg_signal_label_svc)\n",
    "print(\"Confusion Matrix:\")\n",
    "print(cm_svc)\n",
    "\n",
    "report_svc = classification_report(Y1_test_label, eeg_signal_label_svc)\n",
    "print(\"Classification Report:\")\n",
    "print(report_svc)"
   ]
  },
  {
   "cell_type": "code",
   "execution_count": null,
   "id": "b86a8c14-e606-4014-8e76-97a9f57448cb",
   "metadata": {},
   "outputs": [],
   "source": [
    "import joblib\n",
    "\n",
    "joblib.dump(rf, 'random_forest_model.joblib')"
   ]
  },
  {
   "cell_type": "code",
   "execution_count": null,
   "id": "7ba14220-c646-4230-bf8d-b6c71e0c6be4",
   "metadata": {},
   "outputs": [],
   "source": []
  }
 ],
 "metadata": {
  "kernelspec": {
   "display_name": "wki-ws23",
   "language": "python",
   "name": "python3"
  },
  "language_info": {
   "codemirror_mode": {
    "name": "ipython",
    "version": 3
   },
   "file_extension": ".py",
   "mimetype": "text/x-python",
   "name": "python",
   "nbconvert_exporter": "python",
   "pygments_lexer": "ipython3",
   "version": "3.8.18"
  }
 },
 "nbformat": 4,
 "nbformat_minor": 5
}
